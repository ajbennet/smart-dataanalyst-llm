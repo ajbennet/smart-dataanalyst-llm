{
 "cells": [
  {
   "cell_type": "code",
   "execution_count": 1,
   "id": "cd408cf1-c375-4a56-89ea-1aa525728c0c",
   "metadata": {
    "tags": []
   },
   "outputs": [],
   "source": [
    "!pip3 install -r requirements.txt --quiet"
   ]
  },
  {
   "cell_type": "code",
   "execution_count": 2,
   "id": "2b6adc00-8184-4784-b774-2f1bd42cd08f",
   "metadata": {
    "tags": []
   },
   "outputs": [
    {
     "name": "stderr",
     "output_type": "stream",
     "text": [
      "/home/ec2-user/anaconda3/envs/pytorch_p310/lib/python3.10/site-packages/torch/cuda/__init__.py:551: UserWarning: Can't initialize NVML\n",
      "  warnings.warn(\"Can't initialize NVML\")\n"
     ]
    }
   ],
   "source": [
    "import boto3\n",
    "import json\n",
    "\n",
    "import os\n",
    "import pandas as pd\n",
    "import matplotlib.pyplot as plt\n",
    "import seaborn as sns\n",
    "from getpass import getpass\n",
    "from langchain.agents import create_pandas_dataframe_agent\n",
    "from pandasai import SmartDataframe\n",
    "\n",
    "import torch\n",
    "from transformers import (\n",
    "    pipeline,\n",
    "    AutoModelForCausalLM,\n",
    "    AutoTokenizer,\n",
    ")\n",
    "from langchain.llms import HuggingFacePipeline\n",
    "from datetime import date, time\n",
    "\n",
    "import warnings\n",
    "from IPython.display import Markdown"
   ]
  },
  {
   "cell_type": "markdown",
   "id": "14b9b5ac-615d-4e9d-8b09-eafc5979c55a",
   "metadata": {},
   "source": [
    "### <a name=\"#2\">Define the Bedrock Model for Inference</a>\n",
    "(<a href=\"#0\">Go to top</a>)\n",
    "\n",
    "\n",
    "Let's select the Bedrock model the same way we did in the previous labs.\n",
    "\n",
    "**Please opt for frugal practices when using Bedrock such as using smaller LLMs for simpler tasks and only reserving the use of the larger LLMs for more complex use cases.**"
   ]
  },
  {
   "cell_type": "code",
   "execution_count": 3,
   "id": "0c09f0eb-13ca-41c1-8503-58222b0b2dac",
   "metadata": {
    "tags": []
   },
   "outputs": [
    {
     "ename": "ModuleNotFoundError",
     "evalue": "No module named 'mlu_utils'",
     "output_type": "error",
     "traceback": [
      "\u001b[0;31m---------------------------------------------------------------------------\u001b[0m",
      "\u001b[0;31mModuleNotFoundError\u001b[0m                       Traceback (most recent call last)",
      "Cell \u001b[0;32mIn[3], line 2\u001b[0m\n\u001b[1;32m      1\u001b[0m \u001b[38;5;28;01mfrom\u001b[39;00m \u001b[38;5;21;01mlangchain\u001b[39;00m\u001b[38;5;21;01m.\u001b[39;00m\u001b[38;5;21;01mllms\u001b[39;00m\u001b[38;5;21;01m.\u001b[39;00m\u001b[38;5;21;01mbedrock\u001b[39;00m \u001b[38;5;28;01mimport\u001b[39;00m Bedrock\n\u001b[0;32m----> 2\u001b[0m \u001b[38;5;28;01mfrom\u001b[39;00m \u001b[38;5;21;01mmlu_utils\u001b[39;00m\u001b[38;5;21;01m.\u001b[39;00m\u001b[38;5;21;01mhelpers\u001b[39;00m \u001b[38;5;28;01mimport\u001b[39;00m validate_inference_parameters\n\u001b[1;32m      4\u001b[0m \u001b[38;5;66;03m# Define the bedrock client\u001b[39;00m\n\u001b[1;32m      5\u001b[0m bedrock \u001b[38;5;241m=\u001b[39m boto3\u001b[38;5;241m.\u001b[39mclient(\n\u001b[1;32m      6\u001b[0m     service_name\u001b[38;5;241m=\u001b[39m\u001b[38;5;124m\"\u001b[39m\u001b[38;5;124mbedrock\u001b[39m\u001b[38;5;124m\"\u001b[39m,\n\u001b[1;32m      7\u001b[0m     region_name\u001b[38;5;241m=\u001b[39m\u001b[38;5;124m\"\u001b[39m\u001b[38;5;124mus-east-1\u001b[39m\u001b[38;5;124m\"\u001b[39m,\n\u001b[1;32m      8\u001b[0m     endpoint_url\u001b[38;5;241m=\u001b[39m\u001b[38;5;124m\"\u001b[39m\u001b[38;5;124mhttps://bedrock.us-east-1.amazonaws.com\u001b[39m\u001b[38;5;124m\"\u001b[39m,\n\u001b[1;32m      9\u001b[0m )\n",
      "\u001b[0;31mModuleNotFoundError\u001b[0m: No module named 'mlu_utils'"
     ]
    }
   ],
   "source": [
    "from langchain.llms.bedrock import Bedrock\n",
    "from ml_utils.helpers import validate_inference_parameters\n",
    "\n",
    "# Define the bedrock client\n",
    "bedrock = boto3.client(\n",
    "    service_name=\"bedrock\",\n",
    "    region_name=\"us-east-1\",\n",
    "    endpoint_url=\"https://bedrock.us-east-1.amazonaws.com\",\n",
    ")\n",
    "\n",
    "# Define the bedrock-runtime client that will be used for predictions\n",
    "bedrock_runtime = boto3.client(service_name=\"bedrock-runtime\")\n",
    "\n",
    "\n",
    "##########################################################################\n",
    "########################### Select the LLM ###############################\n",
    "\n",
    "# bedrock_model_id = \"ai21.j2-mid-v1\"\n",
    "# bedrock_model_id = \"cohere.command-text-v14\"\n",
    "bedrock_model_id = \"ai21.j2-ultra-v1\"\n",
    "# bedrock_model_id = 'anthropic.claude-v2'\n",
    "\n",
    "##########################################################################\n",
    "##########################################################################\n",
    "\n",
    "# Each model has a different set of inference parameters\n",
    "inference_modifier = {\n",
    "    \"maxTokens\": 4096,\n",
    "    \"temperature\": 0.0,\n",
    "    \"topP\": 1,\n",
    "}\n",
    "\n",
    "# Sanity check for the inference parameters\n",
    "validate_inference_parameters(\n",
    "    model_id=bedrock_model_id, inference_parameters=inference_modifier\n",
    ")\n",
    "\n",
    "# Define the langchain module with the selected bedrock model\n",
    "bedrock_llm = Bedrock(\n",
    "    model_id=bedrock_model_id, client=bedrock_runtime, model_kwargs=inference_modifier\n",
    ")"
   ]
  },
  {
   "cell_type": "code",
   "execution_count": null,
   "id": "2823138c-501f-4196-ba6d-ab4b5916106a",
   "metadata": {},
   "outputs": [],
   "source": [
    "df = pd.read_csv('data/titanic.csv')\n",
    "df.head()\n",
    "sdf = SmartDataframe(df, config={\"llm\": bedrock_llm})\n",
    "response = sdf.chat('Calculate the median age')\n",
    "print(response)"
   ]
  },
  {
   "cell_type": "code",
   "execution_count": null,
   "id": "b86f41f6-7c4e-4fdc-9b21-7b6e053b7dea",
   "metadata": {},
   "outputs": [],
   "source": []
  }
 ],
 "metadata": {
  "kernelspec": {
   "display_name": "conda_pytorch_p310",
   "language": "python",
   "name": "conda_pytorch_p310"
  },
  "language_info": {
   "codemirror_mode": {
    "name": "ipython",
    "version": 3
   },
   "file_extension": ".py",
   "mimetype": "text/x-python",
   "name": "python",
   "nbconvert_exporter": "python",
   "pygments_lexer": "ipython3",
   "version": "3.10.13"
  }
 },
 "nbformat": 4,
 "nbformat_minor": 5
}
